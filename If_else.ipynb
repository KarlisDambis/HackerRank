{
  "nbformat": 4,
  "nbformat_minor": 0,
  "metadata": {
    "colab": {
      "name": "If/else.ipynb",
      "provenance": [],
      "authorship_tag": "ABX9TyMWbC9wVk8tXNoWEbEY9BGL",
      "include_colab_link": true
    },
    "kernelspec": {
      "name": "python3",
      "display_name": "Python 3"
    },
    "language_info": {
      "name": "python"
    }
  },
  "cells": [
    {
      "cell_type": "markdown",
      "metadata": {
        "id": "view-in-github",
        "colab_type": "text"
      },
      "source": [
        "<a href=\"https://colab.research.google.com/github/KarlisDambis/HackerRank/blob/main/If_else.ipynb\" target=\"_parent\"><img src=\"https://colab.research.google.com/assets/colab-badge.svg\" alt=\"Open In Colab\"/></a>"
      ]
    },
    {
      "cell_type": "code",
      "metadata": {
        "colab": {
          "base_uri": "https://localhost:8080/"
        },
        "id": "_vWUVtmJhtUm",
        "outputId": "964bbb87-0ef7-474a-90d7-456aac9559a4"
      },
      "source": [
        "n = int(input(\"Enter a number: \"))\n",
        "\n",
        "if (n in range (6,21) or n % 2 != 0):\n",
        "  print (\"Weird\")\n",
        "\n",
        "else:\n",
        "  print (\"Not Weird\")"
      ],
      "execution_count": 12,
      "outputs": [
        {
          "output_type": "stream",
          "text": [
            "Enter a number: 24\n",
            "Not Weird\n"
          ],
          "name": "stdout"
        }
      ]
    }
  ]
}
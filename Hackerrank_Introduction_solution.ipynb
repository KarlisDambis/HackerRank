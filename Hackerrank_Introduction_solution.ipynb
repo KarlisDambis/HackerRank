{
  "nbformat": 4,
  "nbformat_minor": 0,
  "metadata": {
    "colab": {
      "name": "Hackerrank Introduction solution.ipynb",
      "provenance": [],
      "authorship_tag": "ABX9TyMYXzGlmevCLwuqEqORTj4O",
      "include_colab_link": true
    },
    "kernelspec": {
      "name": "python3",
      "display_name": "Python 3"
    },
    "language_info": {
      "name": "python"
    }
  },
  "cells": [
    {
      "cell_type": "markdown",
      "metadata": {
        "id": "view-in-github",
        "colab_type": "text"
      },
      "source": [
        "<a href=\"https://colab.research.google.com/github/KarlisDambis/HackerRank/blob/main/Hackerrank_Introduction_solution.ipynb\" target=\"_parent\"><img src=\"https://colab.research.google.com/assets/colab-badge.svg\" alt=\"Open In Colab\"/></a>"
      ]
    },
    {
      "cell_type": "markdown",
      "metadata": {
        "id": "QDwypfEXK_H-"
      },
      "source": [
        "**If/Else**"
      ]
    },
    {
      "cell_type": "code",
      "metadata": {
        "colab": {
          "base_uri": "https://localhost:8080/"
        },
        "id": "x7qW3M--KY1N",
        "outputId": "d8c3a5b4-6051-4ced-fbc3-b6a19b9f1c78"
      },
      "source": [
        "n = int(input(\"Enter a number: \"))\n",
        "\n",
        "if (n in range (6,21) or n % 2 != 0):\n",
        "  print (\"Weird\")\n",
        "\n",
        "else:\n",
        "  print (\"Not Weird\")"
      ],
      "execution_count": 1,
      "outputs": [
        {
          "output_type": "stream",
          "text": [
            "Enter a number: 24\n",
            "Not Weird\n"
          ],
          "name": "stdout"
        }
      ]
    },
    {
      "cell_type": "markdown",
      "metadata": {
        "id": "x_KmxcgYLDli"
      },
      "source": [
        "**Arithmetic Operation**"
      ]
    },
    {
      "cell_type": "code",
      "metadata": {
        "colab": {
          "base_uri": "https://localhost:8080/"
        },
        "id": "_6baZ0wHLJZ4",
        "outputId": "8edacbea-7bd8-4816-91cf-1f659d84de38"
      },
      "source": [
        "print(\"Enter a and b numbers for arithmetic operation:\")\n",
        "a = int(input(\"a: \"))\n",
        "b = int(input(\"b: \"))\n",
        "\n",
        "print(a+b)\n",
        "print(a-b)\n",
        "print(a*b)"
      ],
      "execution_count": 7,
      "outputs": [
        {
          "output_type": "stream",
          "text": [
            "Enter a and b numbers for arithmetic operation:\n",
            "a: 3\n",
            "b: 2\n",
            "5\n",
            "1\n",
            "6\n"
          ],
          "name": "stdout"
        }
      ]
    },
    {
      "cell_type": "markdown",
      "metadata": {
        "id": "PY1NUiCpLcOk"
      },
      "source": [
        "**Division**"
      ]
    },
    {
      "cell_type": "code",
      "metadata": {
        "colab": {
          "base_uri": "https://localhost:8080/"
        },
        "id": "ZhyChlS3MGjq",
        "outputId": "12be841c-26fa-4925-f6c0-b1c3ba6ad093"
      },
      "source": [
        "print(\"Enter a and b numbers for division operation:\")\n",
        "a = int(input(\"a: \"))\n",
        "b = int(input(\"b: \"))\n",
        "\n",
        "print (a//b)\n",
        "print (a/b)"
      ],
      "execution_count": 6,
      "outputs": [
        {
          "output_type": "stream",
          "text": [
            "Enter a and b numbers:\n",
            "a: 4\n",
            "b: 3\n",
            "1\n",
            "1.3333333333333333\n"
          ],
          "name": "stdout"
        }
      ]
    },
    {
      "cell_type": "markdown",
      "metadata": {
        "id": "g2RMajorNBgh"
      },
      "source": [
        "**Print Function**"
      ]
    },
    {
      "cell_type": "code",
      "metadata": {
        "colab": {
          "base_uri": "https://localhost:8080/"
        },
        "id": "DRlQVylMRHmn",
        "outputId": "86c9db1e-3b10-42e1-8c9b-6abff7718a3e"
      },
      "source": [
        "n = int(input(\"Enter a number here:\"))\n",
        "\n",
        "for i in range(1,n+1):\n",
        "    print(i,end=\"\")"
      ],
      "execution_count": 8,
      "outputs": [
        {
          "output_type": "stream",
          "text": [
            "Enter a number here:3\n",
            "123"
          ],
          "name": "stdout"
        }
      ]
    },
    {
      "cell_type": "code",
      "metadata": {
        "colab": {
          "base_uri": "https://localhost:8080/"
        },
        "id": "f7PNea54Rmmh",
        "outputId": "4aa91ad3-3bfd-4082-896d-50ddce972304"
      },
      "source": [
        "n = int(input())\n",
        "print(*range(1,n+1),sep=\"\")"
      ],
      "execution_count": 9,
      "outputs": [
        {
          "output_type": "stream",
          "text": [
            "3\n",
            "123\n"
          ],
          "name": "stdout"
        }
      ]
    },
    {
      "cell_type": "markdown",
      "metadata": {
        "id": "xrSq829sR3v4"
      },
      "source": [
        ""
      ]
    }
  ]
}